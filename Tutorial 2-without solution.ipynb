{
 "cells": [
  {
   "cell_type": "code",
   "execution_count": 21,
   "metadata": {},
   "outputs": [],
   "source": [
    "#Exploring Various color spaces \n",
    "#GRAYSCALE\n",
    "#HSV - Hue Saturation Value\n",
    "#LAB - Luminosity A(green-red) B(yellow-Blue)\n",
    "#threshold selection and canny edge detection alogrithm\n",
    "#drawing contours and counting them\n"
   ]
  },
  {
   "cell_type": "code",
   "execution_count": 4,
   "metadata": {},
   "outputs": [],
   "source": [
    "import cv2\n",
    "\n",
    "image = cv2.imread(\"puppy.jpg\")\n",
    "(height,width,depth) = image.shape\n",
    "\n",
    "cv2.namedWindow('Image', cv2.WINDOW_NORMAL)\n",
    "cv2.imshow(\"Image\", image)\n",
    "cv2.waitKey(0)\n",
    "\n",
    "# convert the image to grayscale\n",
    "gray = cv2.cvtColor(image, cv2.COLOR_BGR2GRAY) \n",
    "cv2.namedWindow('Gray', cv2.WINDOW_NORMAL)\n",
    "cv2.imshow(\"Gray\", gray)\n",
    "cv2.waitKey(0)\n",
    "\n",
    "\n",
    "#converting to HSV colorspace\n",
    "hsv = cv2.cvtColor(image, cv2.COLOR_BGR2HSV) \n",
    "cv2.namedWindow('hsv', cv2.WINDOW_NORMAL)\n",
    "#display converted HSV image\n",
    "cv2.imshow(\"hsv\", hsv)\n",
    "cv2.waitKey(0)\n",
    "\n",
    "#converting HSV image to Grayscale\n",
    "hsv_gray=cv2.cvtColor(hsv, cv2.COLOR_BGR2GRAY)\n",
    "cv2.namedWindow('hsv_gray', cv2.WINDOW_NORMAL)\n",
    "#display converted HSV gray image\n",
    "cv2.imshow('hsv_gray', hsv_gray)\n",
    "cv2.waitKey(0)\n",
    "\n",
    "cv2.destroyAllWindows()"
   ]
  },
  {
   "cell_type": "code",
   "execution_count": 6,
   "metadata": {},
   "outputs": [],
   "source": [
    "#converting into high contrast image\n",
    "import cv2\n",
    "\n",
    "#-----Reading the image-----------------------------------------------------\n",
    "img = cv2.imread('puppy.jpg', 1)\n",
    "cv2.imshow(\"img\",img) \n",
    "cv2.waitKey(0)\n",
    "#-----Converting image to LAB Color model----------------------------------- \n",
    "lab= cv2.cvtColor(img, cv2.COLOR_BGR2LAB)\n",
    "cv2.imshow(\"lab\",lab)\n",
    "cv2.waitKey(0)\n",
    "#-----Splitting the LAB image to different channels-------------------------\n",
    "l, a, b = cv2.split(lab)\n",
    "cv2.imshow('l_channel', l)\n",
    "cv2.imshow('a_channel', a)\n",
    "cv2.imshow('b_channel', b)\n",
    "cv2.waitKey(0)\n",
    "\n",
    "#-----Applying CLAHE to L-channel-------------------------------------------\n",
    "clahe = cv2.createCLAHE(clipLimit=3.0, tileGridSize=(8,8))\n",
    "cl = clahe.apply(l)\n",
    "cv2.imshow('CLAHE output', cl)\n",
    "cv2.waitKey(0)\n",
    "\n",
    "#-----Merge the CLAHE enhanced L-channel with the a and b channel-----------\n",
    "limg = cv2.merge((cl,a,b))\n",
    "cv2.imshow('limg', limg)\n",
    "cv2.waitKey(0)\n",
    "\n",
    "#-----Converting image from LAB Color model to RGB model--------------------\n",
    "high_contrast = cv2.cvtColor(limg, cv2.COLOR_LAB2BGR)"
   ]
  },
  {
   "cell_type": "code",
   "execution_count": 7,
   "metadata": {},
   "outputs": [],
   "source": [
    "cv2.imshow(\"high_contrast\", high_contrast)\n",
    "cv2.waitKey(0)\n",
    "cv2.destroyAllWindows()"
   ]
  },
  {
   "cell_type": "code",
   "execution_count": 10,
   "metadata": {},
   "outputs": [],
   "source": [
    "high_gray = cv2.cvtColor(high_contrast, cv2.COLOR_BGR2GRAY) \n",
    "\n",
    "cv2.namedWindow('High Contrast Gray', cv2.WINDOW_NORMAL)\n",
    "cv2.imshow(\"High Contrast Gray\", high_gray)\n",
    "cv2.waitKey(0)\n",
    "#writing to file\n",
    "cv2.destroyAllWindows() "
   ]
  },
  {
   "cell_type": "code",
   "execution_count": 11,
   "metadata": {},
   "outputs": [],
   "source": [
    "#applying gaussian blur on gray\n",
    "# apply a Gaussian blur with a 11x11 kernel to the image to smooth it,\n",
    "# useful when reducing high frequency noise\n",
    "blurred_gray = cv2.GaussianBlur(gray, (13,13), 0)\n",
    "cv2.imshow(\"Blurred Gray\", blurred_gray)\n",
    "\n",
    "H_blurred_gray = cv2.GaussianBlur(high_gray, (15,15), 0)\n",
    "cv2.imshow(\"High contrast Blurred Gray\", H_blurred_gray)\n",
    "cv2.waitKey(0)\n",
    "cv2.destroyAllWindows()\n",
    "\n"
   ]
  },
  {
   "cell_type": "code",
   "execution_count": 27,
   "metadata": {},
   "outputs": [],
   "source": [
    "#The Canny edge detector is an edge detection operator \n",
    "#that uses a multi-stage algorithm to detect a wide range of edges in images.\n",
    "#It was developed by John F. Canny in 1986. Canny also produced a computational theory of edge detection\n",
    "#explaining why the technique works. \n",
    "\n",
    "#Canny algorithm works best on gray scale. It takes four inputs:\n",
    "#Grayscale image\n",
    "#min threshold\n",
    "#max threshold\n",
    "#aperture size where default is 3"
   ]
  },
  {
   "cell_type": "code",
   "execution_count": 15,
   "metadata": {},
   "outputs": [],
   "source": [
    "edged = cv2.Canny(hsv_gray, 40, 70, 3)\n",
    "cv2.namedWindow('Edged', cv2.WINDOW_NORMAL)\n",
    "cv2.imshow(\"Edged\", edged)\n",
    "cv2.waitKey(0)\n",
    "cv2.destroyAllWindows()"
   ]
  },
  {
   "cell_type": "code",
   "execution_count": 14,
   "metadata": {},
   "outputs": [],
   "source": [
    "edged_2 = cv2.Canny(blurred_gray, 10, 70, 3)\n",
    "cv2.namedWindow('Edged', cv2.WINDOW_NORMAL)\n",
    "cv2.imshow(\"Edged\", edged)\n",
    "cv2.waitKey(0)\n",
    "cv2.destroyAllWindows()"
   ]
  },
  {
   "cell_type": "code",
   "execution_count": 18,
   "metadata": {},
   "outputs": [
    {
     "data": {
      "image/png": "[encoded data removed]",
      "text/plain": [
       "<Figure size 432x288 with 6 Axes>"
      ]
     },
     "metadata": {},
     "output_type": "display_data"
    }
   ],
   "source": [
    "#threshold the image by setting all pixel values less than 225 to 255 (white; foreground) and all pixel values >= 170 to 255\n",
    "#(black; background), thereby segmenting the image\n",
    "thresh = cv2.threshold(blurred_gray, 70,255, cv2.THRESH_BINARY_INV)[1]\n",
    "cv2.namedWindow('Thresh', cv2.WINDOW_NORMAL)\n",
    "cv2.imshow(\"Thresh\", thresh)\n",
    "cv2.waitKey(0)\n",
    "cv2.destroyAllWindows()\n",
    "lower_threshold=80\n",
    "# try various thresholds\n",
    "#cv2.THRESH_BINARY\n",
    "#cv2.THRESH_BINARY_INV\n",
    "#cv2.THRESH_TRUNC\n",
    "#cv2.THRESH_TOZERO\n",
    "#cv2.THRESH_TOZERO_INV\n",
    "ret,thresh1 = cv2.threshold(blurred_gray,80,255,cv2.THRESH_BINARY)\n",
    "ret,thresh2 = cv2.threshold(blurred_gray,80,255,cv2.THRESH_BINARY_INV)\n",
    "ret,thresh3 = cv2.threshold(blurred_gray,80,255,cv2.THRESH_TRUNC)\n",
    "ret,thresh4 = cv2.threshold(blurred_gray,80,255,cv2.THRESH_TOZERO)\n",
    "ret,thresh5 = cv2.threshold(blurred_gray,80,255,cv2.THRESH_TOZERO_INV)\n",
    "\n",
    "titles = ['Original Image','BINARY','BINARY_INV','TRUNC','TOZERO','TOZERO_INV']\n",
    "images = [blurred_gray, thresh1, thresh2, thresh3, thresh4, thresh5]\n",
    "from matplotlib import pyplot as plt\n",
    "for i in range(0,6):\n",
    "    plt.subplot(2,3,i+1),plt.imshow(images[i],'gray')\n",
    "    plt.title(titles[i])\n",
    "    plt.xticks([]),plt.yticks([])\n",
    "\n",
    "plt.show()\n",
    "\n"
   ]
  },
  {
   "cell_type": "code",
   "execution_count": 19,
   "metadata": {},
   "outputs": [],
   "source": [
    "# find contours (i.e., outlines) of the foreground objects in the\n",
    "# thresholded image\n",
    "import imutils\n",
    "cnts = cv2.findContours(edged_2.copy(), cv2.RETR_EXTERNAL, cv2.CHAIN_APPROX_SIMPLE)\n",
    "cnts = imutils.grab_contours(cnts )\n",
    "output = image.copy()\n",
    " \n",
    "#loop over the contours\n",
    "for c in cnts:\n",
    "    # draw each contour on the output image with a 3px thick purple\n",
    "    # outline, then display the output contours one at a time\n",
    "    cv2.drawContours(output, [c], -1, (255, 0, 155), 3)\n",
    "    cv2.imshow(\"Contours\", output)\n",
    "cv2.waitKey(0)\n",
    "cv2.destroyAllWindows()"
   ]
  },
  {
   "cell_type": "code",
   "execution_count": 20,
   "metadata": {},
   "outputs": [],
   "source": [
    "\n",
    "# draw the total number of contours found in purple\n",
    "text = \"I found {} objects!\".format(len(cnts))\n",
    "cv2.putText(output, text, (10, 25),  cv2.FONT_HERSHEY_SIMPLEX, 0.7,(0, 240, 159), 2)\n",
    "cv2.imshow(\"Contours\", output)\n",
    "cv2.waitKey(0)\n",
    "cv2.destroyAllWindows()"
   ]
  },
  {
   "cell_type": "code",
   "execution_count": 21,
   "metadata": {},
   "outputs": [
    {
     "name": "stdout",
     "output_type": "stream",
     "text": [
      "710 598 77 136\n",
      "652 487 1 4\n",
      "588 465 31 61\n",
      "363 448 5 13\n",
      "460 438 116 63\n",
      "618 436 33 48\n",
      "653 411 13 19\n",
      "725 356 52 110\n",
      "528 344 24 27\n",
      "475 344 16 22\n",
      "234 334 14 26\n",
      "232 297 20 22\n",
      "229 272 29 22\n",
      "778 260 49 132\n",
      "664 255 6 8\n",
      "778 247 4 6\n",
      "418 234 23 26\n",
      "605 223 48 51\n",
      "404 223 28 15\n",
      "583 178 184 482\n",
      "315 142 79 332\n",
      "Lower X: 229 Lower Y: 142 Higher X: 787 Higher Y: 734\n"
     ]
    }
   ],
   "source": [
    "# find contours (i.e., outlines) of the foreground objects in the\n",
    "# thresholded image\n",
    "\n",
    "contours,hierarchy = cv2.findContours(thresh.copy(),  cv2.RETR_EXTERNAL, cv2.CHAIN_APPROX_SIMPLE)\n",
    "temp_x_lower=int(width/2)\n",
    "temp_y_lower=int(height/2)\n",
    "temp_x_higher=int(width/2)\n",
    "temp_y_higher=int(height/2)\n",
    "for cnt in contours:\n",
    "    x,y,w,h = cv2.boundingRect(cnt)\n",
    "    print(x,y,w,h)\n",
    "    \n",
    "    if temp_x_higher+w  < (x+w):\n",
    "        temp_x_higher =int(x+w)\n",
    "    if temp_y_higher+h  < (y+h):\n",
    "        temp_y_higher= int(y+h)\n",
    "        \n",
    "    if temp_x_lower > int(x):\n",
    "        temp_x_lower=int(x)\n",
    "    if temp_y_lower > int(y): \n",
    "        temp_y_lower=int(y)\n",
    "\n",
    "print(\"Lower X:\",temp_x_lower,\"Lower Y:\",temp_y_lower,\"Higher X:\", temp_x_higher,\"Higher Y:\",temp_y_higher) \n",
    "    \n",
    "bb_img = cv2.rectangle(image,(temp_x_lower,temp_y_lower),(int(temp_x_higher),int(temp_y_higher)),(0,255,0),2)\n",
    "cv2.imshow(\"Bounding Box\",bb_img)\n",
    "cv2.waitKey(0)\n",
    "cv2.destroyAllWindows()"
   ]
  },
  {
   "cell_type": "code",
   "execution_count": 53,
   "metadata": {},
   "outputs": [],
   "source": [
    "#exercise 2\n",
    "#change gaussian blur and utilize the various color spaces if you can get the right number of cars in carpark image. \n",
    "#Think of using other threshold if possible"
   ]
  },
  {
   "cell_type": "code",
   "execution_count": null,
   "metadata": {},
   "outputs": [],
   "source": []
  },
  {
   "cell_type": "code",
   "execution_count": 23,
   "metadata": {},
   "outputs": [],
   "source": [
    "import cv2\n",
    "image = cv2.imread(\"carpark3.jpg\")\n",
    "(height,width,depth) = image.shape\n",
    "\n",
    "cv2.namedWindow('Image', cv2.WINDOW_NORMAL)\n",
    "cv2.imshow(\"Image\", image)\n",
    "cv2.waitKey(0)\n",
    "\n",
    "# convert the image to grayscale\n",
    "gray = cv2.cvtColor(image, cv2.COLOR_BGR2GRAY) \n",
    "cv2.namedWindow('Gray', cv2.WINDOW_NORMAL)\n",
    "cv2.imshow(\"Gray\", gray)\n",
    "cv2.waitKey(0)\n",
    "\n",
    "\n",
    "#converting to HSV colorspace\n",
    "hsv = cv2.cvtColor(image, cv2.COLOR_BGR2HSV) \n",
    "cv2.namedWindow('hsv', cv2.WINDOW_NORMAL)\n",
    "#display converted HSV image\n",
    "cv2.imshow(\"hsv\", hsv)\n",
    "cv2.waitKey(0)\n",
    "\n",
    "#converting HSV image to Grayscale\n",
    "hsv_gray=cv2.cvtColor(hsv, cv2.COLOR_BGR2GRAY)\n",
    "cv2.namedWindow('hsv_gray', cv2.WINDOW_NORMAL)\n",
    "#display converted HSV gray image\n",
    "cv2.imshow('hsv_gray', hsv_gray)\n",
    "cv2.waitKey(0)\n",
    "\n",
    "cv2.destroyAllWindows()"
   ]
  },
  {
   "cell_type": "code",
   "execution_count": 24,
   "metadata": {},
   "outputs": [],
   "source": [
    "#applying gaussian blur on gray\n",
    "# apply a Gaussian blur with a 11x11 kernel to the image to smooth it,\n",
    "# useful when reducing high frequency noise\n",
    "blurred_gray = cv2.GaussianBlur(gray, (13,13), 0)\n",
    "cv2.imshow(\"Blurred Gray\", blurred_gray)\n",
    "\n",
    "cv2.waitKey(0)\n",
    "cv2.destroyAllWindows()\n"
   ]
  },
  {
   "cell_type": "code",
   "execution_count": 26,
   "metadata": {},
   "outputs": [
    {
     "data": {
      "image/png": "[encoded data removed]",
      "text/plain": [
       "<Figure size 432x288 with 6 Axes>"
      ]
     },
     "metadata": {},
     "output_type": "display_data"
    }
   ],
   "source": [
    "#threshold the image by setting all pixel values less than 225 to 255 (white; foreground) and all pixel values >= 170 to 255\n",
    "#(black; background), thereby segmenting the image\n",
    "temp_image=blurred_gray\n",
    "thresh = cv2.threshold(temp_image, 70,255, cv2.THRESH_BINARY_INV)[1]\n",
    "cv2.namedWindow('Thresh', cv2.WINDOW_NORMAL)\n",
    "cv2.imshow(\"Thresh\", thresh)\n",
    "cv2.waitKey(0)\n",
    "cv2.destroyAllWindows()\n",
    "lower_threshold=80\n",
    "higher_threshold=255\n",
    "# try various thresholds\n",
    "#cv2.THRESH_BINARY\n",
    "#cv2.THRESH_BINARY_INV\n",
    "#cv2.THRESH_TRUNC\n",
    "#cv2.THRESH_TOZERO\n",
    "#cv2.THRESH_TOZERO_INV\n",
    "ret,thresh1 = cv2.threshold(temp_image,lower_threshold,higher_threshold,cv2.THRESH_BINARY)\n",
    "ret,thresh2 = cv2.threshold(temp_image,lower_threshold,higher_threshold,cv2.THRESH_BINARY_INV)\n",
    "ret,thresh3 = cv2.threshold(temp_image,lower_threshold,higher_threshold,cv2.THRESH_TRUNC)\n",
    "ret,thresh4 = cv2.threshold(temp_image,lower_threshold,higher_threshold,cv2.THRESH_TOZERO)\n",
    "ret,thresh5 = cv2.threshold(temp_image,lower_threshold,higher_threshold,cv2.THRESH_TOZERO_INV)\n",
    "\n",
    "titles = ['Original Image','BINARY','BINARY_INV','TRUNC','TOZERO','TOZERO_INV']\n",
    "images = [gray, thresh1, thresh2, thresh3, thresh4, thresh5]\n",
    "from matplotlib import pyplot as plt\n",
    "for i in range(0,6):\n",
    "    plt.subplot(2,3,i+1),plt.imshow(images[i],'gray')\n",
    "    plt.title(titles[i])\n",
    "    plt.xticks([]),plt.yticks([])\n",
    "\n",
    "plt.show()\n"
   ]
  },
  {
   "cell_type": "code",
   "execution_count": null,
   "metadata": {},
   "outputs": [],
   "source": []
  }
 ],
 "metadata": {
  "kernelspec": {
   "display_name": "Python 3",
   "language": "python",
   "name": "python3"
  },
  "language_info": {
   "codemirror_mode": {
    "name": "ipython",
    "version": 3
   },
   "file_extension": ".py",
   "mimetype": "text/x-python",
   "name": "python",
   "nbconvert_exporter": "python",
   "pygments_lexer": "ipython3",
   "version": "3.7.0"
  }
 },
 "nbformat": 4,
 "nbformat_minor": 2
}
